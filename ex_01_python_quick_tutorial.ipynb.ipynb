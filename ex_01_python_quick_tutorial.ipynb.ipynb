{
 "cells": [
  {
   "cell_type": "code",
   "execution_count": 9,
   "id": "46b42b02-40c4-427b-9c78-5e09a4c67fdc",
   "metadata": {},
   "outputs": [
    {
     "name": "stdout",
     "output_type": "stream",
     "text": [
      "Hi hpc!\n"
     ]
    }
   ],
   "source": [
    "print('Hi hpc!')"
   ]
  },
  {
   "cell_type": "code",
   "execution_count": 12,
   "id": "55999587-9f88-467e-99e6-785c3ce03103",
   "metadata": {},
   "outputs": [
    {
     "name": "stdout",
     "output_type": "stream",
     "text": [
      "i don't like it!\n",
      "__________________________________________________\n",
      "编程好难！\n",
      "i hope get a good grade\n"
     ]
    }
   ],
   "source": [
    "print(\"i don't like it!\")\n",
    "print(\"_\"*50)\n",
    "print(\"编程好难！\")\n",
    "print(\"i hope get a good grade\")"
   ]
  },
  {
   "cell_type": "code",
   "execution_count": 14,
   "id": "f287f3fc-fea8-4657-86dc-2454619a2b8a",
   "metadata": {},
   "outputs": [
    {
     "name": "stdout",
     "output_type": "stream",
     "text": [
      "加： 11\n",
      "减： 6\n",
      "乘： 27\n",
      "除： 9.0\n",
      "整除： 3\n",
      "余数： 0\n",
      "幂： 27\n"
     ]
    }
   ],
   "source": [
    "print(\"加：\",3+8) #打印简单的运算\n",
    "print(\"减：\",7-1)\n",
    "print(\"乘：\",9*3)\n",
    "print(\"除：\", 27/3)\n",
    "print(\"整除：\", 6//2)\n",
    "print(\"余数：\", 6%2)\n",
    "print(\"幂：\",3**3)\n"
   ]
  },
  {
   "cell_type": "code",
   "execution_count": 17,
   "id": "5955ac65-8985-460c-a088-adf32fbe88e1",
   "metadata": {},
   "outputs": [
    {
     "name": "stdout",
     "output_type": "stream",
     "text": [
      "monadic_equation= 4045\n",
      "monadic_equation=4045.00\n",
      "monadic_equation=4045.00\n"
     ]
    }
   ],
   "source": [
    "\n",
    "x=86\n",
    "monadic_equation=47*x+3\n",
    "print(\"monadic_equation=\",monadic_equation)\n",
    "print(\"monadic_equation=%.2f\"%monadic_equation) #%字符串格式化方法\n",
    "print(\"monadic_equation={:.2f}\".format(monadic_equation)) #format()字符串格式化方法\n"
   ]
  },
  {
   "cell_type": "code",
   "execution_count": 20,
   "id": "e29f1ca9-18b0-428a-b6ba-5bfeacaa1c7c",
   "metadata": {},
   "outputs": [
    {
     "name": "stdout",
     "output_type": "stream",
     "text": [
      "The longitude of the Xi'an coordinate is 106.94, and the latitude is 37.261013.\n"
     ]
    }
   ],
   "source": [
    "city_name=\"Yan'an\"\n",
    "coordinate_longitude=106.942292\n",
    "coordiante_latitude=37.261013\n",
    "print(\"The longitude of the Xi'an coordinate is {lon:.2f}, and the latitude is {lat}.\".format(lon=coordinate_longitude,lat=coordiante_latitude))\n"
   ]
  },
  {
   "cell_type": "code",
   "execution_count": 22,
   "id": "1d4bd19e-ab38-40b7-984e-554a1acab3a5",
   "metadata": {},
   "outputs": [
    {
     "name": "stdout",
     "output_type": "stream",
     "text": [
      "func_2=3\n"
     ]
    }
   ],
   "source": [
    "x,y,b=3,8,4 #unpacking 序列解包。尝试，x,y,*z=0,1,2,3,4,5,6; x,y,*z=0,1; (x,y),(a,b)=(4,3),(2,3)\n",
    "func_2=2*x+3*y+b\n",
    "print(\"func_2={}\".format(x,y,b,func_2))\n"
   ]
  },
  {
   "cell_type": "code",
   "execution_count": 4,
   "id": "38d8ee2e-8718-4ae3-9283-0cb03010201d",
   "metadata": {},
   "outputs": [
    {
     "name": "stdout",
     "output_type": "stream",
     "text": [
      "The list length=4\n",
      "Maximum value=19\n",
      "Minimum value=10\n"
     ]
    }
   ],
   "source": [
    "lst_n=list(range(10,20,3))\n",
    "print(\"The list length={}\".format(len(lst_n)))\n",
    "print(\"Maximum value={}\".format(max(lst_n)))\n",
    "print(\"Minimum value={}\".format(min(lst_n)))"
   ]
  },
  {
   "cell_type": "code",
   "execution_count": 159,
   "id": "8927de55-4c07-42e5-a9c0-e669b9e6b9e6",
   "metadata": {},
   "outputs": [
    {
     "name": "stdout",
     "output_type": "stream",
     "text": [
      "[2:6]->['c', 'd', 'e', 'f']\n",
      "[-2:-1]->['l']\n",
      "[-2:]->['l', 'm']\n",
      "[:2]->['a', 'b']\n",
      "[:]->['a', 'b', 'c', 'd', 'e', 'f', 'g', 'h', 'i', 'j', 'k', 'l', 'm']\n"
     ]
    }
   ],
   "source": [
    "lst_s=list(map(chr,range(97,110)))\n",
    "print(\"[2:6]->{}\".format(lst_s[2:6]))\n",
    "print(\"[-2:-1]->{}\".format(lst_s[-2:-1]))\n",
    "print(\"[-2:]->{}\".format(lst_s[-2:]))\n",
    "print(\"[:2]->{}\".format(lst_s[:2]))\n",
    "print(\"[:]->{}\".format(lst_s[:]))\n"
   ]
  },
  {
   "cell_type": "code",
   "execution_count": 176,
   "id": "1e5020c5-d3eb-4213-8c0e-181b62339a98",
   "metadata": {},
   "outputs": [
    {
     "name": "stdout",
     "output_type": "stream",
     "text": [
      "['a', 'b', 'c', 'd', 'e', 'f', 'g', 'h', 'i', 'j', 'k', 'l', 'm']\n",
      "__________________________________________________\n",
      "[0:8:2]->['a', 'c', 'e', 'g']\n",
      "[::2]->['a', 'c', 'e', 'g', 'i', 'k', 'm']\n",
      "[7:2:-2]->['h', 'f', 'd']\n",
      "[17:2:-3]->['m', 'j', 'g', 'd']\n",
      "[9::-4]->['j', 'f', 'b']\n",
      "[:3:-2]->['m', 'k', 'i', 'g', 'e']\n"
     ]
    }
   ],
   "source": [
    "print(lst_s)\n",
    "print(\"_\"*50)\n",
    "print(\"[0:8:2]->{}\".format(lst_s[0:8:2]))\n",
    "print(\"[::2]->{}\".format(lst_s[::2]))\n",
    "print(\"[7:2:-2]->{}\".format(lst_s[7:2:-2]))\n",
    "print(\"[17:2:-3]->{}\".format(lst_s[17:2:-3]))\n",
    "print(\"[9::-4]->{}\".format(lst_s[9::-4]))\n",
    "print(\"[:3:-2]->{}\".format(lst_s[:3:-2]))"
   ]
  },
  {
   "cell_type": "code",
   "execution_count": 178,
   "id": "991fc680-3629-44b1-b937-cc0deafdd13b",
   "metadata": {},
   "outputs": [
    {
     "name": "stdout",
     "output_type": "stream",
     "text": [
      "['a', 'b', 'c', 'd', 'e', 34, 'g', 'h', 520, 7, 'k', 'l', 'm']\n",
      "__________________________________________________\n",
      "lst_s[5]=34->['a', 'b', 'c', 'd', 'e', 34, 'g', 'h', 520, 7, 'k', 'l', 'm']\n",
      "lst_s+[None]*6->['a', 'b', 'c', 'd', 'e', 34, 'g', 'h', 520, 7, 'k', 'l', 'm', None, None]\n",
      "lst_none[13]=521->['a', 'b', 'c', 'd', 'e', 34, 'g', 'h', 520, 7, 'k', 'l', 'm', 521, None]\n",
      "lst_none[-4:-1]=list(range(98,104,2))->['a', 'b', 'c', 'd', 'e', 34, 'g', 'h', 520, 7, 'k', 98, 100, 102, None]\n",
      "lst_none[2:2]=[0,0,0,8]->['a', 'b', 0, 0, 0, 8, 'c', 'd', 'e', 34, 'g', 'h', 520, 7, 'k', 98, 100, 102, None]\n",
      "del lst_none[-2:]->['a', 'b', 0, 0, 0, 8, 'c', 'd', 'e', 34, 'g', 'h', 520, 7, 'k', 98, 100]\n"
     ]
    }
   ],
   "source": [
    "print(lst_s)\n",
    "print(\"_\"*50)\n",
    "lst_s[5]=34 \n",
    "lst_s[8]=520\n",
    "lst_s[9]=7\n",
    "print(\"lst_s[5]=34->{}\".format(lst_s))\n",
    "lst_none=lst_s+[None]*2\n",
    "print(\"lst_s+[None]*6->{}\".format(lst_none))\n",
    "lst_none[13]=521\n",
    "print(\"lst_none[13]=521->{}\".format(lst_none))\n",
    "lst_none[-4:-1]=list(range(98,104,2)) \n",
    "print(\"lst_none[-4:-1]=list(range(98,104,2))->{}\".format(lst_none))\n",
    "lst_none[2:2]=[0,0,0,8]\n",
    "print(\"lst_none[2:2]=[0,0,0,8]->{}\".format(lst_none))\n",
    "del lst_none[-2:] \n",
    "print(\"del lst_none[-2:]->{}\".format(lst_none))"
   ]
  },
  {
   "cell_type": "code",
   "execution_count": 179,
   "id": "613c32aa-8599-4838-a3c8-b0351890addd",
   "metadata": {},
   "outputs": [
    {
     "name": "stdout",
     "output_type": "stream",
     "text": [
      "['_', '`', 'a', 'b', 'c', 'd', 'e', 'f', 'g', 'h']\n",
      "__________________________________________________\n",
      "lst_s_2.append(97)->['_', '`', 'a', 'b', 'c', 'd', 'e', 'f', 'g', 'h', 97]\n",
      "lst_s_2.append(list(range(43,86,5)))->['_', '`', 'a', 'b', 'c', 'd', 'e', 'f', 'g', 'h', 97, [43, 48, 53, 58, 63, 68, 73, 78, 83]]\n",
      "lst_s_2.extend(lst_spechars)->['_', '`', 'a', 'b', 'c', 'd', 'e', 'f', 'g', 'h', 97, [43, 48, 53, 58, 63, 68, 73, 78, 83], '*', ')', '*']\n",
      "lst_s_2.count('*')=2\n",
      "lst_s_2.index('e')=6\n",
      "lst_s_2.insert(2,[1000,1200,1500])->['_', '`', [800, 1800, 1500], 'a', 'b', 'c', 'd', 'e', 'f', 'g', 'h', 97, [43, 48, 53, 58, 63, 68, 73, 78, 83], '*', ')', '*']\n",
      "lst_s_2.pop(7)_popup->e\n",
      "lst_s_2.pop(7)_retention->['_', '`', [800, 1800, 1500], 'a', 'b', 'c', 'd', 'f', 'g', 'h', 97, [43, 48, 53, 58, 63, 68, 73, 78, 83], '*', ')', '*']\n",
      "lst_s_2.remove('*')_retention->['_', '`', [800, 1800, 1500], 'a', 'b', 'c', 'd', 'f', 'g', 'h', 97, [43, 48, 53, 58, 63, 68, 73, 78, 83], ')', '*']\n",
      "list_n_2.sort()->[4, 10, 42, 50, 95, 900]\n"
     ]
    }
   ],
   "source": [
    "lst_s_2=list(map(chr,range(95,105)))\n",
    "print(lst_s_2)\n",
    "print(\"_\"*50)\n",
    "lst_s_2.append(97)\n",
    "print(\"lst_s_2.append(97)->{}\".format(lst_s_2))\n",
    "lst_s_2.append(list(range(43,86,5)))\n",
    "print(\"lst_s_2.append(list(range(43,86,5)))->{}\".format(lst_s_2))\n",
    "lst_spechars=['*',')','*']\n",
    "lst_s_2.extend(lst_spechars)\n",
    "print(\"lst_s_2.extend(lst_spechars)->{}\".format(lst_s_2))\n",
    "print(\"lst_s_2.count('*')={}\".format(lst_s_2.count('*')))\n",
    "print(\"lst_s_2.index('e')={}\".format(lst_s_2.index('e')))\n",
    "lst_s_2.insert(2,[800,1800,1500])\n",
    "print(\"lst_s_2.insert(2,[1000,1200,1500])->{}\".format(lst_s_2))\n",
    "print(\"lst_s_2.pop(7)_popup->{}\".format(lst_s_2.pop(7)))\n",
    "print(\"lst_s_2.pop(7)_retention->{}\".format(lst_s_2))\n",
    "lst_s_2.remove('*')\n",
    "print(\"lst_s_2.remove('*')_retention->{}\".format(lst_s_2))\n",
    "list_n_2=[42,50,900,95,4,10]\n",
    "list_n_2.sort()\n",
    "print(\"list_n_2.sort()->{}\".format(list_n_2))"
   ]
  },
  {
   "cell_type": "code",
   "execution_count": 180,
   "id": "f6198ab0-7c3b-44ec-8d7c-8e54132c0d2a",
   "metadata": {},
   "outputs": [
    {
     "name": "stdout",
     "output_type": "stream",
     "text": [
      "tuple_1=1,6,8,->(1, 6, 8)\n",
      "4*(29*4,)->(116, 116, 116, 116)\n",
      "tuple((7,2,30))->(7, 2, 30)\n",
      "tuple([5,0,62])->(5, 0, 62)\n"
     ]
    }
   ],
   "source": [
    "tuple_1=1,6,8,\n",
    "print(\"tuple_1=1,6,8,->{}\".format(tuple_1))\n",
    "print(\"4*(29*4,)->{}\".format(4*(29*4,)))\n",
    "print(\"tuple((7,2,30))->{}\".format(tuple((7,2,30)))) #用()\n",
    "print(\"tuple([5,0,62])->{}\".format(tuple([5,0,62]))) #用[]\n"
   ]
  },
  {
   "cell_type": "code",
   "execution_count": 181,
   "id": "e28d1c2e-c63e-4eb2-a9ab-6fce29de6cbe",
   "metadata": {},
   "outputs": [
    {
     "name": "stdout",
     "output_type": "stream",
     "text": [
      "items->[(0, [0, 1, 2, 3, 4]), (1, [[93, 123, 175]]), (2, 'python')]\n",
      "dic=dict(items)->{0: [0, 1, 2, 3, 4], 1: [[93, 123, 175]], 2: 'python'}\n",
      "dic[1]->[[93, 123, 175]]\n"
     ]
    }
   ],
   "source": [
    "import random\n",
    "items=[(0,[i for i in range(5)]),(1,[random.sample(list(range(85,176,2)),3)]),(2,'python')] #[i for i in range(5)] 为列表推导式 list comprehension/derivation\n",
    "print(\"items->{}\".format(items))\n",
    "dic=dict(items)\n",
    "print(\"dic=dict(items)->{}\".format(dic))\n",
    "print(\"dic[1]->{}\".format(dic[1]))\n"
   ]
  },
  {
   "cell_type": "code",
   "execution_count": 27,
   "id": "7d1cd5ca-306a-4232-afdb-f76c53742221",
   "metadata": {},
   "outputs": [
    {
     "ename": "NameError",
     "evalue": "name 'dic' is not defined",
     "output_type": "error",
     "traceback": [
      "\u001b[1;31m---------------------------------------------------------------------------\u001b[0m",
      "\u001b[1;31mNameError\u001b[0m                                 Traceback (most recent call last)",
      "\u001b[1;32m<ipython-input-27-7e6f02d2f3a7>\u001b[0m in \u001b[0;36m<module>\u001b[1;34m\u001b[0m\n\u001b[1;32m----> 1\u001b[1;33m \u001b[0mprint\u001b[0m\u001b[1;33m(\u001b[0m\u001b[1;34m\"len(dic)->{}\"\u001b[0m\u001b[1;33m.\u001b[0m\u001b[0mformat\u001b[0m\u001b[1;33m(\u001b[0m\u001b[0mlen\u001b[0m\u001b[1;33m(\u001b[0m\u001b[0mdic\u001b[0m\u001b[1;33m)\u001b[0m\u001b[1;33m)\u001b[0m\u001b[1;33m)\u001b[0m\u001b[1;33m\u001b[0m\u001b[1;33m\u001b[0m\u001b[0m\n\u001b[0m\u001b[0;32m      2\u001b[0m \u001b[0mdic\u001b[0m\u001b[1;33m[\u001b[0m\u001b[1;36m3\u001b[0m\u001b[1;33m]\u001b[0m\u001b[1;33m=\u001b[0m\u001b[1;33m(\u001b[0m\u001b[0mrandom\u001b[0m\u001b[1;33m.\u001b[0m\u001b[0mrandom\u001b[0m\u001b[1;33m(\u001b[0m\u001b[1;33m)\u001b[0m\u001b[1;33m,\u001b[0m\u001b[0mrandom\u001b[0m\u001b[1;33m.\u001b[0m\u001b[0muniform\u001b[0m\u001b[1;33m(\u001b[0m\u001b[1;36m200\u001b[0m\u001b[1;33m,\u001b[0m\u001b[1;36m300\u001b[0m\u001b[1;33m)\u001b[0m\u001b[1;33m)\u001b[0m\u001b[1;33m\u001b[0m\u001b[1;33m\u001b[0m\u001b[0m\n\u001b[0;32m      3\u001b[0m \u001b[0mprint\u001b[0m\u001b[1;33m(\u001b[0m\u001b[1;34m\"dic[3]=(random.random(),random.uniform(200,300))->{}\"\u001b[0m\u001b[1;33m.\u001b[0m\u001b[0mformat\u001b[0m\u001b[1;33m(\u001b[0m\u001b[0mdic\u001b[0m\u001b[1;33m)\u001b[0m\u001b[1;33m)\u001b[0m\u001b[1;33m\u001b[0m\u001b[1;33m\u001b[0m\u001b[0m\n\u001b[0;32m      4\u001b[0m \u001b[1;32mdel\u001b[0m \u001b[0mdic\u001b[0m\u001b[1;33m[\u001b[0m\u001b[1;36m1\u001b[0m\u001b[1;33m]\u001b[0m\u001b[1;33m\u001b[0m\u001b[1;33m\u001b[0m\u001b[0m\n\u001b[0;32m      5\u001b[0m \u001b[0mprint\u001b[0m\u001b[1;33m(\u001b[0m\u001b[1;34m\"del dic[1]->{}\"\u001b[0m\u001b[1;33m.\u001b[0m\u001b[0mformat\u001b[0m\u001b[1;33m(\u001b[0m\u001b[0mdic\u001b[0m\u001b[1;33m)\u001b[0m\u001b[1;33m)\u001b[0m\u001b[1;33m\u001b[0m\u001b[1;33m\u001b[0m\u001b[0m\n",
      "\u001b[1;31mNameError\u001b[0m: name 'dic' is not defined"
     ]
    }
   ],
   "source": [
    "print(\"len(dic)->{}\".format(len(dic)))\n",
    "dic[3]=(random.random(),random.uniform(200,300))\n",
    "print(\"dic[3]=(random.random(),random.uniform(200,300))->{}\".format(dic))\n",
    "del dic[1]\n",
    "print(\"del dic[1]->{}\".format(dic))\n",
    "print(\"3 in dic->{}\".format(3 in dic))\n",
    "print(\"5 in dic->{}\".format(5 in dic))\n",
    "print(\"dic.keys()->{}\".format(dic.keys())) #应该放在字典的方法一节里\n",
    "print(\"dic.values()->{}\".format(dic.values()))\n",
    "print(\"dic.items()->{}\".format(dic.items()))\n",
    "print(\"_\"*50)\n",
    "print(\"list(dic.keys())->{}\".format(list(dic.keys())))\n"
   ]
  },
  {
   "cell_type": "code",
   "execution_count": null,
   "id": "ec660463-2b65-4534-ad06-4f3e623fc892",
   "metadata": {},
   "outputs": [],
   "source": [
    "\n"
   ]
  },
  {
   "cell_type": "code",
   "execution_count": 29,
   "id": "705e1b78-ca33-4c65-8c00-6c519e306c4e",
   "metadata": {},
   "outputs": [
    {
     "name": "stdout",
     "output_type": "stream",
     "text": [
      "lst_A=[4, 6, 8, 10, 12, 14, 16],lst_B=[90, 111, 132, 153, 174]\n",
      "dic_2={0: [4, 6, 8, 10, 12, 14, 16], 1: [90, 111, 132, 153, 174]}\n",
      "__________________________________________________\n",
      "dic_assignment={0: [4, 6, 8, 10, 12, 14, 16], 1: [90, 111, 132, 153, 174]}\n",
      "dic_2.clear()->{}\n",
      "dic_assignment={}\n",
      "dic_2[5]=list(range(1,9,2))->{5: [1, 3, 5, 7]}\n",
      "dic_copy=dic_2.copy()->{5: [1, 3, 5, 7]}\n",
      "dic_2[8]=[2,5]->{5: [1, 3, 5, 7], 8: [2, 5]}\n",
      "dic_copy={5: [1, 3, 5, 7]}\n",
      "dic_copy[5].remove(5)->{5: [1, 3, 7]}\n",
      "dic_copy.setdefault(6,[77,99])->{5: [1, 3, 7], 6: [77, 99]}\n",
      "dic_2.pop(5)->{8: [2, 5]}\n",
      "dic_update={8: [5, 7, 6, 3, 2], 9: [3, 2, 33, 55, 66]}\n",
      "dic_2.update(dic_update->{8: [5, 7, 6, 3, 2], 9: [3, 2, 33, 55, 66]}\n",
      "dic_2.get(9)->[3, 2, 33, 55, 66]\n",
      "dic_2.popitem()->{8: [5, 7, 6, 3, 2]}\n",
      "dic_3={}.fromkeys([0,1,2,4,35,'A','F'])->{0: None, 1: None, 2: None, 4: None, 35: None, 'A': None, 'F': None}\n"
     ]
    }
   ],
   "source": [
    "lst_A=list(range(4,18,2))\n",
    "lst_B=list(range(90,186,21))\n",
    "print(\"lst_A={},lst_B={}\".format(lst_A,lst_B))\n",
    "dic_2={0:lst_A,1:lst_B}\n",
    "print(\"dic_2={}\".format(dic_2))\n",
    "print(\"_\"*50)\n",
    "dic_assignment=dic_2\n",
    "print(\"dic_assignment={}\".format(dic_assignment))\n",
    "dic_2.clear()\n",
    "print(\"dic_2.clear()->{}\".format(dic_2))\n",
    "print(\"dic_assignment={}\".format(dic_assignment))\n",
    "dic_2[5]=list(range(1,9,2))\n",
    "print(\"dic_2[5]=list(range(1,9,2))->{}\".format(dic_2))\n",
    "dic_copy=dic_2.copy()\n",
    "print(\"dic_copy=dic_2.copy()->{}\".format(dic_copy))\n",
    "dic_2[8]=[2,5]\n",
    "print(\"dic_2[8]=[2,5]->{}\".format(dic_2))\n",
    "print(\"dic_copy={}\".format(dic_copy))\n",
    "dic_copy[5].remove(5)\n",
    "print(\"dic_copy[5].remove(5)->{}\".format(dic_copy))\n",
    "dic_copy.setdefault(6,[77,99]) \n",
    "print(\"dic_copy.setdefault(6,[77,99])->{}\".format(dic_copy))\n",
    "dic_2.pop(5) \n",
    "print(\"dic_2.pop(5)->{}\".format(dic_2))\n",
    "dic_update={8:[5,7,6,3,2],9:[3,2,33,55,66]}\n",
    "print(\"dic_update={}\".format(dic_update))\n",
    "dic_2.update(dic_update) \n",
    "print(\"dic_2.update(dic_update->{}\".format(dic_2))\n",
    "print(\"dic_2.get(9)->{}\".format(dic_2.get(9)))\n",
    "dic_2.popitem() \n",
    "print(\"dic_2.popitem()->{}\".format(dic_2))\n",
    "dic_3={}.fromkeys([0,1,2,4,35,'A','F'])\n",
    "print(\"dic_3={}\"+\".fromkeys([0,1,2,4,35,'A','F'])->{}\".format(dic_3)) \n"
   ]
  },
  {
   "cell_type": "code",
   "execution_count": 185,
   "id": "230518a7-e888-45c3-a606-d5e1efecdf90",
   "metadata": {},
   "outputs": [
    {
     "name": "stdout",
     "output_type": "stream",
     "text": [
      "lst_s_3=list(\"Hello Java!\")->['H', 'e', 'l', 'l', 'o', ' ', 'J', 'a', 'v', 'a', '!']\n",
      "\"Hellow\"+\" Java!\"->Hellow Java!\n",
      "\"+\".join(str(123456))->1+2+3+4+5+6\n",
      "len(\"Hellow Java!\")->12\n",
      "coordinates.split(\",\")->['120.132007', '30.300508', '9.7']\n",
      "eval(coordinates)->(120.132007, 30.300508, 9.7)\n",
      "\"Hello Java!\".lower()->hello java!\n",
      "\"Hello Java!\".upper()->HELLO JAVA!\n",
      "\"Hello Java!\"[6:]->Java!\n",
      "\"    Hello Java!    \".strip()->Hello Java!\n",
      "\"Hello Java!\".replace(\"Java\",\"Grasshopper\")->Hello Grasshopper!\n",
      "hello_lst.sort()>[' ', '!', 'H', 'J', 'a', 'a', 'e', 'l', 'l', 'o', 'v']\n",
      "\"Hello Java!\".find(\"Py\")->-1\n"
     ]
    }
   ],
   "source": [
    "lst_s_3=list(\"Hello Java!\")\n",
    "print(\"lst_s_3=list(\\\"Hello Java!\\\")->{}\".format(lst_s_3)) #\"\\\" escape character\n",
    "print(\"\\\"Hellow\\\"+\\\" Java!\\\"->{}\".format(\"Hellow\"+\" Java!\"))\n",
    "print(\"\\\"+\\\".join(str(123456))->{}\".format(\"+\".join(str(123456))))\n",
    "print(\"len(\\\"Hellow Java!\\\")->{}\".format(len(\"Hellow Java!\")))\n",
    "coordinates=\"120.132007,30.300508,9.7\"\n",
    "print(\"coordinates.split(\\\",\\\")->{}\".format(coordinates.split(\",\")))\n",
    "print(\"eval(coordinates)->{}\".format(eval(coordinates))) #通常用eval()方法将字符串，转换为对应数值形式；\n",
    "print(\"\\\"Hello Java!\\\".lower()->{}\".format(\"Hello Java!\".lower()))\n",
    "print(\"\\\"Hello Java!\\\".upper()->{}\".format(\"Hello Java!\".upper()))\n",
    "print(\"\\\"Hello Java!\\\"[6:]->{}\".format(\"Hello Java!\"[6:]))\n",
    "print(\"\\\"    Hello Java!    \\\".strip()->{}\".format(\"    Hello Java!    \".strip()))\n",
    "print(\"\\\"Hello Java!\\\".replace(\\\"Java\\\",\\\"Grasshopper\\\")->{}\".format(\"Hello Java!\".replace(\"Java\",\"Grasshopper\")))\n",
    "hello_lst=list(\"Hello Java!\")\n",
    "hello_lst.sort()\n",
    "print(\"hello_lst.sort()>{}\".format(hello_lst))\n",
    "print(\"\\\"Hello Java!\\\".find(\\\"Py\\\")->{}\".format(\"Hello Java!\".find(\"Py\")))\n"
   ]
  },
  {
   "cell_type": "code",
   "execution_count": 186,
   "id": "29b0d6e0-3361-4a91-902a-c896591a6a99",
   "metadata": {},
   "outputs": [
    {
     "name": "stdout",
     "output_type": "stream",
     "text": [
      "new_str=format_str % values->Hello,Java and Grasshopper!\n",
      "new_str_2=format_str_2 % (pi,6.66666666)->Pi with three decimals:3.142,and enter a value with percent sign:6.67 %\n"
     ]
    }
   ],
   "source": [
    "format_str=\"Hello,%s and %s!\"\n",
    "values=(\"Java\",\"Grasshopper\")\n",
    "new_str=format_str % values\n",
    "print(\"new_str=format_str % values->{}\".format(new_str))\n",
    "\n",
    "format_str_2=\"Pi with three decimals:%.3f,and enter a value with percent sign:%.2f %%\" #如果字符串里包含实际的%，则通过%%即两个百分号进行转义\n",
    "\n",
    "from math import pi\n",
    "new_str_2=format_str_2 % (pi,6.66666666)\n",
    "print(\"new_str_2=format_str_2 % (pi,6.66666666)->{}\".format(new_str_2))\n"
   ]
  },
  {
   "cell_type": "code",
   "execution_count": 187,
   "id": "46267186-60cf-44bb-886c-842d2d8f5cea",
   "metadata": {},
   "outputs": [
    {
     "name": "stdout",
     "output_type": "stream",
     "text": [
      "3.141593,                                3.14,3.14159265358979311599796346854418516,Hello,Hello,52,34,3.141593\n"
     ]
    }
   ],
   "source": [
    "format_str_3=\"%5f,%36.2f,%.35f,%.5s,%.*s,%d,%x,%f\"\n",
    "new_str_3=format_str_3%(pi,pi,pi,\"Hello Java!\",5,\"Hello Java!\",52,52,pi)\n",
    "print(\"{}\".format(new_str_3))\n"
   ]
  },
  {
   "cell_type": "code",
   "execution_count": 23,
   "id": "ddac77c4-eb5e-4fbd-b8f4-410d2968d0ad",
   "metadata": {},
   "outputs": [
    {
     "name": "stdout",
     "output_type": "stream",
     "text": [
      "s_1=s_template_1.substitute(x=\"Python\")->Python,glorious,Python!\n",
      "s_2=s_template_2.substitute(x=\"py\")->python is amazing!\n",
      "substitute_dict={'x': 'Python', 'y': 'Grasshopper'}\n",
      "s_3=s_template_3.substitute(substitute_dict)->Python and Grasshopper are both amazing!\n"
     ]
    }
   ],
   "source": [
    "\n",
    "from string import Template\n",
    "s_template_1=Template(\"$x,glorious,$x!\")\n",
    "s_1=s_template_1.substitute(x=\"Python\")\n",
    "print(\"s_1=s_template_1.substitute(x=\\\"Python\\\")->{}\".format(s_1))\n",
    "s_template_2=Template(\"${x}thon is amazing!\")\n",
    "s_2=s_template_2.substitute(x=\"py\")\n",
    "print(\"s_2=s_template_2.substitute(x=\\\"py\\\")->{}\".format(s_2))\n",
    "s_template_3=Template(\"$x and $y are both amazing!\")\n",
    "substitute_dict=dict([('x','Python'),('y','Grasshopper')])\n",
    "print(\"substitute_dict={}\".format(substitute_dict))\n",
    "s_3=s_template_3.substitute(substitute_dict)\n",
    "print(\"s_3=s_template_3.substitute(substitute_dict)->{}\".format(s_3))\n"
   ]
  },
  {
   "cell_type": "code",
   "execution_count": 43,
   "id": "52b7d981-e012-4397-9586-d13b8eddd91e",
   "metadata": {},
   "outputs": [
    {
     "name": "stdout",
     "output_type": "stream",
     "text": [
      "re.findall(pattern_1,text)->['Java']\n",
      "re.findall(pattern_2,text)->['Java']\n"
     ]
    }
   ],
   "source": [
    "import re\n",
    "pattern_1='Java'\n",
    "text=\"Hello Java!\"\n",
    "print(\"re.findall(pattern_1,text)->{}\".format(re.findall(pattern_1,text)))\n",
    "pattern_2='Java'\n",
    "print(\"re.findall(pattern_2,text)->{}\".format(re.findall(pattern_2,text)))\n"
   ]
  },
  {
   "cell_type": "code",
   "execution_count": 45,
   "id": "645776a7-e8fe-4425-acc5-e2593fd4c92c",
   "metadata": {},
   "outputs": [
    {
     "name": "stdout",
     "output_type": "stream",
     "text": [
      "re.findall('.ython','Hello Hpc!')->[]\n",
      "re.findall('.ython','Hello gjss!')->[]\n",
      "re.findall('.ython','Hello gWihpc!')->[]\n",
      "re.findall('.ython','Hello Hpcajss!')->[]\n"
     ]
    }
   ],
   "source": [
    "点号\n",
    "print(\"re.findall('.ython','Hello Hpc!')->{}\".format(re.findall('.ython','Hello Hpc!')))\n",
    "print(\"re.findall('.ython','Hello gjss!')->{}\".format(re.findall('.ython','Hello gjss!')))\n",
    "print(\"re.findall('.ython','Hello gWihpc!')->{}\".format(re.findall('.ython','Hello gWihpc!')))\n",
    "print(\"re.findall('.ython','Hello Hpcajss!')->{}\".format(re.findall('.ython','Hello Hpcajss!')))\n"
   ]
  },
  {
   "cell_type": "code",
   "execution_count": 48,
   "id": "51f6b64f-57c9-41e7-b760-7eab4e4869af",
   "metadata": {},
   "outputs": [
    {
     "name": "stdout",
     "output_type": "stream",
     "text": [
      "re.findall(r'w?cadesign\\.cn,w+\\.cadesign\\.cn','cadesign.cn,www.cadesign.cn')->['cadesign.cn,www.cadesign.cn']\n",
      "re.findall(r'w{4}\\.cadesign\\.cn','www.cadesign.cn')->[]\n",
      "re.findall(r'w{2,5}\\.cadesign\\.cn','www.cadesign.cn')->['www.cadesign.cn']\n"
     ]
    }
   ],
   "source": [
    "print(\"re.findall(r'w?cadesign\\.cn,w+\\.cadesign\\.cn','cadesign.cn,www.cadesign.cn')->{}\".format(re.findall(r'w?cadesign\\.cn,w+\\.cadesign\\.cn','cadesign.cn,www.cadesign.cn')))\n",
    "print(\"re.findall(r'w{4}\"+\"\\.cadesign\\.cn','www.cadesign.cn')->{}\".format(re.findall(r'w{4}\\.cadesign\\.cn','www.cadesign.cn')))\n",
    "print(\"re.findall(r'w{2,5}\"+\"\\.cadesign\\.cn','www.cadesign.cn')->{}\".format(re.findall(r'w{2,5}\\.cadesign\\.cn','www.cadesign.cn')))\n"
   ]
  },
  {
   "cell_type": "code",
   "execution_count": 50,
   "id": "95525251-7f2f-4930-b203-efdf713f1f12",
   "metadata": {},
   "outputs": [
    {
     "name": "stdout",
     "output_type": "stream",
     "text": [
      "re.findall('[JA]*va!','Hello Java!')->[]\n",
      "re.findall('[JA]*va!','Hello Jva!')->[]\n",
      "re.findall('[JA]*va!','Hello ava!')->[]\n",
      "re.findall('[JA]*va!','Hello ava!')->[]\n"
     ]
    }
   ],
   "source": [
    "print(\"re.findall('[JA]*va!','Hello Java!')->{}\".format(re.findall('[JA]*thon!','Hello Java!')))\n",
    "print(\"re.findall('[JA]*va!','Hello Jva!')->{}\".format(re.findall('[JA]*thon!','Hello Jva!')))\n",
    "print(\"re.findall('[JA]*va!','Hello ava!')->{}\".format(re.findall('[JA]*thon!','Hello ava!')))\n",
    "print(\"re.findall('[JA]*va!','Hello ava!')->{}\".format(re.findall('[JA]*thon!','Hello va!')))\n"
   ]
  },
  {
   "cell_type": "code",
   "execution_count": 51,
   "id": "49194f47-7f5c-486a-98f5-ba2018c2e7bc",
   "metadata": {},
   "outputs": [
    {
     "name": "stdout",
     "output_type": "stream",
     "text": [
      "re.findall('[Py]*thon!','Hello Python!')->['Python!']\n",
      "re.findall('[Py]*thon!','Hello Pthon!')->['Pthon!']\n",
      "re.findall('[Py]*thon!','Hello ython!')->['ython!']\n",
      "re.findall('[Py]*thon!','Hello ython!')->['thon!']\n"
     ]
    }
   ],
   "source": [
    "print(\"re.findall('[Py]*thon!','Hello Python!')->{}\".format(re.findall('[Py]*thon!','Hello Python!')))\n",
    "print(\"re.findall('[Py]*thon!','Hello Pthon!')->{}\".format(re.findall('[Py]*thon!','Hello Pthon!')))\n",
    "print(\"re.findall('[Py]*thon!','Hello ython!')->{}\".format(re.findall('[Py]*thon!','Hello ython!')))\n",
    "print(\"re.findall('[Py]*thon!','Hello ython!')->{}\".format(re.findall('[Py]*thon!','Hello thon!')))\n"
   ]
  },
  {
   "cell_type": "code",
   "execution_count": 53,
   "id": "756a49f0-2f2e-4fdd-a4ca-3505267f81d7",
   "metadata": {},
   "outputs": [
    {
     "name": "stdout",
     "output_type": "stream",
     "text": [
      "re.findall('python|please','java')->[]\n",
      "re.findall('python|please','please')->[]\n",
      "re.findall('python|please','please and java')->['please']\n"
     ]
    }
   ],
   "source": [
    "print(\"re.findall('python|please','java')->{}\".format(re.findall('python|please','java')))\n",
    "print(\"re.findall('python|please','please')->{}\".format(re.findall('python|olease','please')))\n",
    "print(\"re.findall('python|please','please and java')->{}\".format(re.findall('python|please','please and java')))\n"
   ]
  },
  {
   "cell_type": "code",
   "execution_count": 55,
   "id": "7bd0b36c-58ee-4a9f-a1d1-f5d1637e7cb1",
   "metadata": {},
   "outputs": [
    {
     "name": "stdout",
     "output_type": "stream",
     "text": [
      "re.findall('\\d','number=8')->['8']\n",
      "re.findall('\\D','number=8')->['n', 'u', 'm', 'b', 'e', 'r', '=']\n",
      "re.findall('[^0-4]','number=8')->['n', 'u', 'm', 'b', 'e', 'r', '=', '8']\n"
     ]
    }
   ],
   "source": [
    "print(\"re.findall('\\d','number=8')->{}\".format(re.findall('\\d','number=8')))\n",
    "print(\"re.findall('\\D','number=8')->{}\".format(re.findall('\\D','number=8')))\n",
    "print(\"re.findall('[^0-4]','number=8')->{}\".format(re.findall('[^0-4]','number=8')))\n"
   ]
  },
  {
   "cell_type": "code",
   "execution_count": 57,
   "id": "7ad645df-db96-4ad1-92b7-b3d3b21018f0",
   "metadata": {},
   "outputs": [
    {
     "name": "stdout",
     "output_type": "stream",
     "text": [
      "re.findall('[a-h]','java')->['h']\n",
      "re.search('[a-h]+','java')-><re.Match object; span=(3, 4), match='h'>\n",
      "re.search('[a-h]+','java')->found it!\n",
      "re.split(',','Hello,,,,,,java!')->['Hello', '', '', '', '', '', 'Python!']\n",
      "re.sub('Java','Grasshopper','Hello Java!')->Hello Java!\n",
      "pattern_compile.findall('Hello,,,,,,Java!')->['Java']\n"
     ]
    }
   ],
   "source": [
    "print(\"re.findall('[a-h]','java')->{}\".format(re.findall('[a-h]','python-3.0')))\n",
    "print(\"re.search('[a-h]+','java')->{}\".format(re.search('[a-h]+','python')))\n",
    "if re.search('[a-h]+','java'):\n",
    "    print(\"re.search('[a-h]+','java')->found it!\")\n",
    "print(\"re.split(',','Hello,,,,,,java!')->{}\".format(re.split(',','Hello,,,,,,Python!')))\n",
    "print(\"re.sub('Java','Grasshopper','Hello Java!')->{}\".format(re.sub('Python','Grasshopper','Hello Java!')))\n",
    "\n",
    "pattern_compile=re.compile('Java')\n",
    "print(\"pattern_compile.findall('Hello,,,,,,Java!')->{}\".format(pattern_compile.findall('Hello,,,,,,Java!')))\n",
    "\n",
    "if re.match('p','java'):\n",
    "    print(\"re.match('p','java')->found it!\")\n"
   ]
  },
  {
   "cell_type": "code",
   "execution_count": 58,
   "id": "8ae1fbf8-a132-495a-b32f-c4d17e97e661",
   "metadata": {},
   "outputs": [
    {
     "name": "stdout",
     "output_type": "stream",
     "text": [
      "'java'.find('java')->0\n",
      "'java'.find('java')->0\n",
      "'java'.find('a')->1\n",
      "'p' in 'java'->False\n"
     ]
    }
   ],
   "source": [
    "print(\"\\'java\\'.find(\\'java\\')->{}\".format('java'.find('java')))\n",
    "print(\"\\'java\\'.find(\\'java\\')->{}\".format('java'.find('java')))\n",
    "print(\"\\'java\\'.find(\\'a\\')->{}\".format('java'.find('a')))\n",
    "print(\"\\'p\\' in \\'java\\'->{}\".format('p' in 'java'))\n"
   ]
  },
  {
   "cell_type": "code",
   "execution_count": 59,
   "id": "780a5590-93cf-44b8-8ebd-7097e28b0c7c",
   "metadata": {},
   "outputs": [
    {
     "name": "stdout",
     "output_type": "stream",
     "text": [
      "'Hello,,,,,,Java!'.split(',')->['Hello', '', '', '', '', '', 'Python!']\n",
      "'Hello Java!'.replace('Python','Grasshopper')->Hello Grasshopper!\n"
     ]
    }
   ],
   "source": [
    "print(\"\\'Hello,,,,,,Java!\\'.split(',')->{}\".format( 'Hello,,,,,,Python!'.split(',')))\n",
    "print(\"\\'Hello Java!\\'.replace(\\'Python\\',\\'Grasshopper\\')->{}\".format( 'Hello Python!'.replace('Python','Grasshopper')))\n"
   ]
  },
  {
   "cell_type": "code",
   "execution_count": 61,
   "id": "e9c5fc85-e851-4953-a886-ee6aceaff442",
   "metadata": {},
   "outputs": [
    {
     "name": "stdout",
     "output_type": "stream",
     "text": [
      "match_1.gourp(1)->python\n",
      "match_1.start(1)->4\n",
      "match_1.end(1)->10\n",
      "match_1.span(1)->(4, 10)\n",
      "match_2.group(1)->python\n",
      "match_2.group(2)->org\n"
     ]
    }
   ],
   "source": [
    " match_1=re.match(r'www\\.(.*)\\..{3}','www.python.org')\n",
    "print(\"match_1.gourp(1)->{}\".format(match_1.group(1)))\n",
    "print(\"match_1.start(1)->{}\".format(match_1.start(1)))\n",
    "print(\"match_1.end(1)->{}\".format(match_1.end(1)))\n",
    "print(\"match_1.span(1)->{}\".format(match_1.span(1)))\n",
    "match_2=re.match(r'www\\.(.*)\\.(.{3})','www.python.org')\n",
    "print(\"match_2.group(1)->{}\".format(match_2.group(1)))\n",
    "print(\"match_2.group(2)->{}\".format(match_2.group(2)))\n"
   ]
  },
  {
   "cell_type": "code",
   "execution_count": 62,
   "id": "6189fcd9-6605-4e6b-8514-7951112bd27d",
   "metadata": {},
   "outputs": [
    {
     "name": "stdout",
     "output_type": "stream",
     "text": [
      "lst_1=[16, 19, 22, 25, 28, 31]\n",
      "__________________________________________________\n",
      "for i in lst_1:\n",
      "16\n",
      "19\n",
      "22\n",
      "25\n",
      "28\n",
      "31\n",
      "for i in range(len(lst_1)):\n",
      "idx=0,val=16\n",
      "idx=1,val=19\n",
      "idx=2,val=22\n",
      "idx=3,val=25\n",
      "idx=4,val=28\n",
      "idx=5,val=31\n",
      "++++++++++++++++++++++++++++++++++++++++++++++++++\n",
      "dic_4={'a': 5, 'b': 7, 'c': 6, 'd': 1}\n",
      "__________________________________________________\n",
      "for k in dic_4:\n",
      "a\n",
      "b\n",
      "c\n",
      "d\n",
      "for k,v in dic_4.items():\n",
      "key=a,val=5\n",
      "key=b,val=7\n",
      "key=c,val=6\n",
      "key=d,val=1\n"
     ]
    }
   ],
   "source": [
    "lst_1=list(range(16,34,3))\n",
    "print(\"lst_1={}\".format(lst_1))\n",
    "print(\"_\"*50)\n",
    "print(\"for i in lst_1:\")\n",
    "for i in lst_1:\n",
    "    print(i)\n",
    "print(\"for i in range(len(lst_1)):\")\n",
    "for i in range(len(lst_1)):\n",
    "    print(\"idx={},val={}\".format(i,lst_1[i]))\n",
    "print(\"+\"*50)   \n",
    "dic_4=dict(a=5,b=7,c=6,d=1)\n",
    "print(\"dic_4={}\".format(dic_4))\n",
    "print(\"_\"*50)\n",
    "print(\"for k in dic_4:\")\n",
    "for k in dic_4:\n",
    "    print(k)\n",
    "print(\"for k,v in dic_4.items():\")\n",
    "for k,v in dic_4.items():\n",
    "    print(\"key={},val={}\".format(k,v))\n"
   ]
  },
  {
   "cell_type": "code",
   "execution_count": 63,
   "id": "b8aaf825-ce9e-4afa-a083-d078d21958f9",
   "metadata": {},
   "outputs": [
    {
     "name": "stdout",
     "output_type": "stream",
     "text": [
      "x=32\n",
      "x=66\n",
      "x=100\n",
      "x=134\n",
      "x=168\n",
      "x=202\n",
      "x=236\n",
      "x=270\n",
      "x=304\n",
      "x=338\n",
      "x=372\n",
      "x=406\n"
     ]
    }
   ],
   "source": [
    "x=32\n",
    "while x<=436:\n",
    "    print(\"x={}\".format(x))\n",
    "    x+=34 #增量赋值; x*=2     \n"
   ]
  },
  {
   "cell_type": "code",
   "execution_count": 65,
   "id": "c67ecfdf-efe6-4bc3-82c2-788b3b1408d2",
   "metadata": {},
   "outputs": [
    {
     "name": "stdout",
     "output_type": "stream",
     "text": [
      "x=32\n",
      "sys.maxsize=9223372036854775807\n",
      "i=0\n",
      "i=1\n",
      "i=2\n",
      "i=3\n",
      "i=4\n",
      "i=5\n",
      "i=6\n",
      "i=7\n",
      "i=8\n",
      "i=9\n",
      "i=10\n",
      "i=11\n",
      "i=12\n",
      "i=13\n",
      "i=14\n",
      "i=15\n",
      "i=16\n",
      "i=17\n",
      "i=18\n",
      "i=19\n",
      "i=20\n",
      "i=21\n",
      "i=22\n",
      "i=23\n",
      "i=24\n",
      "i=25\n",
      "i=26\n",
      "i=27\n",
      "i=28\n"
     ]
    }
   ],
   "source": [
    "x=32\n",
    "while x<=436:\n",
    "    print(\"x={}\".format(x))\n",
    "    x+=34 \n",
    "    if x>=50:break    \n",
    "    \n",
    "import sys\n",
    "print(\"sys.maxsize={}\".format(sys.maxsize))\n",
    "for i in range(sys.maxsize):\n",
    "    print(\"i={}\".format(i))  #?\n",
    "    i+=2\n",
    "    if i>=30:break\n"
   ]
  },
  {
   "cell_type": "code",
   "execution_count": 69,
   "id": "702a9d7e-2bbc-4a0c-a6ac-830aa822f30e",
   "metadata": {},
   "outputs": [
    {
     "ename": "FileNotFoundError",
     "evalue": "[Errno 2] No such file or directory: './data/elevation.txt'",
     "output_type": "error",
     "traceback": [
      "\u001b[1;31m---------------------------------------------------------------------------\u001b[0m",
      "\u001b[1;31mFileNotFoundError\u001b[0m                         Traceback (most recent call last)",
      "\u001b[1;32m<ipython-input-69-af066ed9c266>\u001b[0m in \u001b[0;36m<module>\u001b[1;34m\u001b[0m\n\u001b[0;32m      1\u001b[0m \u001b[0mtopography_fp\u001b[0m\u001b[1;33m=\u001b[0m\u001b[1;34m'./data/elevation.txt'\u001b[0m \u001b[1;31m#在处理GIS时，更多的是使用GeoPandas等处理地理信息的库;另，大数据的存储读取通常用Numpy,(Geo)Pandas提供的方法，以及HDF5(binary data format)。\u001b[0m\u001b[1;33m\u001b[0m\u001b[1;33m\u001b[0m\u001b[0m\n\u001b[1;32m----> 2\u001b[1;33m \u001b[0mf\u001b[0m\u001b[1;33m=\u001b[0m\u001b[0mopen\u001b[0m\u001b[1;33m(\u001b[0m\u001b[0mtopography_fp\u001b[0m\u001b[1;33m,\u001b[0m\u001b[1;34m'r'\u001b[0m\u001b[1;33m)\u001b[0m\u001b[1;33m\u001b[0m\u001b[1;33m\u001b[0m\u001b[0m\n\u001b[0m\u001b[0;32m      3\u001b[0m \u001b[0melevation_dat\u001b[0m\u001b[1;33m=\u001b[0m\u001b[1;33m[\u001b[0m\u001b[1;33m]\u001b[0m\u001b[1;33m\u001b[0m\u001b[1;33m\u001b[0m\u001b[0m\n\u001b[0;32m      4\u001b[0m \u001b[1;32mwhile\u001b[0m \u001b[1;32mTrue\u001b[0m\u001b[1;33m:\u001b[0m\u001b[1;33m\u001b[0m\u001b[1;33m\u001b[0m\u001b[0m\n\u001b[0;32m      5\u001b[0m     \u001b[0mline\u001b[0m\u001b[1;33m=\u001b[0m\u001b[0mf\u001b[0m\u001b[1;33m.\u001b[0m\u001b[0mreadline\u001b[0m\u001b[1;33m(\u001b[0m\u001b[1;33m)\u001b[0m\u001b[1;33m\u001b[0m\u001b[1;33m\u001b[0m\u001b[0m\n",
      "\u001b[1;31mFileNotFoundError\u001b[0m: [Errno 2] No such file or directory: './data/elevation.txt'"
     ]
    }
   ],
   "source": [
    "While breaak/true 语句\n",
    "\n",
    "topography_fp='./data/elevation.txt' #在处理GIS时，更多的是使用GeoPandas等处理地理信息的库;另，大数据的存储读取通常用Numpy,(Geo)Pandas提供的方法，以及HDF5(binary data format)。\n",
    "f=open(topography_fp,'r')\n",
    "elevation_dat=[]\n",
    "while True:\n",
    "    line=f.readline()\n",
    "    elevation_dat.append(line)\n",
    "    if not line:break\n",
    "f.close()\n",
    "print(\"elevation_dat[:10]={}\".format(elevation_dat[:10]))\n"
   ]
  },
  {
   "cell_type": "code",
   "execution_count": null,
   "id": "4ae5d2dc-545b-47a6-860d-da695550b8ff",
   "metadata": {},
   "outputs": [],
   "source": [
    "import pandas as pd\n",
    "elevation_df=pd.read_csv(topography_fp, delimiter = \",\",header=None) \n",
    "print(elevation_df)\n"
   ]
  },
  {
   "cell_type": "code",
   "execution_count": 74,
   "id": "a4a94904-d11d-47d4-9b52-0b4a4211ce4e",
   "metadata": {},
   "outputs": [
    {
     "name": "stdout",
     "output_type": "stream",
     "text": [
      "zip_lst=zip(lst_a,lst_b)-><zip object at 0x0000016CEEAFA640>\n",
      "dict(zip_lst)->{4: 'point_h', 1: 'point_m', 6: 'point_p', 2: 'point_c'}\n",
      "4 point_h\n",
      "1 point_m\n",
      "6 point_p\n",
      "2 point_c\n",
      "a=(4, 1, 6, 2),b=('point_h', 'point_m', 'point_p', 'point_c')\n"
     ]
    }
   ],
   "source": [
    "lst_a=[4,1,6,2]\n",
    "lst_b=['point_h','point_m','point_p','point_c']\n",
    "zip_lst=zip(lst_a,lst_b) #The zip() function takes iterables (can be zero or more), aggregates them in a tuple, and returns it.\n",
    "print(\"zip_lst=zip(lst_a,lst_b)->{}\".format(zip_lst))\n",
    "print(\"dict(zip_lst)->{}\".format(dict(zip_lst)))\n",
    "\n",
    "zip_lst=zip(lst_a,lst_b) #迭代对象临时存储，读取完后为空\n",
    "for a,b in zip_lst:\n",
    "    print(a,b)\n",
    "    \n",
    "zip_lst=zip(lst_a,lst_b)\n",
    "a,b=zip(*zip_lst)\n",
    "print(\"a={},b={}\".format(a,b))\n"
   ]
  },
  {
   "cell_type": "code",
   "execution_count": 75,
   "id": "6795975d-47ac-4376-8cfe-25410757c060",
   "metadata": {},
   "outputs": [
    {
     "name": "stdout",
     "output_type": "stream",
     "text": [
      "dic_4={0: 'point_h', 1: 'point_m', 2: 'point_p', 3: 'point_c'}\n",
      "dict((i,v) for i,v in enumerate(lst_c))->{0: 'point_h', 1: 'point_m', 2: 'point_p', 3: 'point_c'}\n",
      "__________________________________________________\n",
      "0:4,point_h\n",
      "1:1,point_m\n",
      "2:6,point_p\n",
      "3:2,point_c\n"
     ]
    }
   ],
   "source": [
    "lst_c=['point_h','point_m','point_p','point_c']\n",
    "dic_4={}\n",
    "for idx,value in enumerate(lst_c):\n",
    "    dic_4[idx]=value\n",
    "print(\"dic_4={}\".format(dic_4))\n",
    "print(\"dict((i,v) for i,v in enumerate(lst_c))->{}\".format(dict((i,v) for i,v in enumerate(lst_c)))) #list comprehension\n",
    "print(\"_\"*50)\n",
    "for i,(a,b) in enumerate(zip(lst_a,lst_b)):\n",
    "    print('%d:%s,%s'%(i,a,b))\n"
   ]
  },
  {
   "cell_type": "code",
   "execution_count": 80,
   "id": "e585f994-4137-4081-a212-f457c4b48211",
   "metadata": {},
   "outputs": [
    {
     "name": "stdout",
     "output_type": "stream",
     "text": [
      "[x*x for x in range(15,87,7) if x%2==0]->[484, 1296, 2500, 4096, 6084]\n",
      "[(x,y) for x in range(8)for y in range(3)]->[(0, 0), (0, 1), (0, 2), (1, 0), (1, 1), (1, 2), (2, 0), (2, 1), (2, 2), (3, 0), (3, 1), (3, 2), (4, 0), (4, 1), (4, 2), (5, 0), (5, 1), (5, 2), (6, 0), (6, 1), (6, 2), (7, 0), (7, 1), (7, 2)]\n",
      "[(x,y) for x,y in zip(range(6),range(9))]->[(0, 0), (1, 1), (2, 2), (3, 3), (4, 4), (5, 5)]\n",
      "[[a for a in range(6,18,5)],2,3,[b for b in range(76,287,35)],[[c for c in range(1000,2000,120)],3,9]]->[[6, 11, 16], 2, 3, [76, 111, 146, 181, 216, 251, 286], [[1000, 1120, 1240, 1360, 1480, 1600, 1720, 1840, 1960], 3, 9]]\n",
      "flatten_lst(nested_list)->[6, 11, 16, 2, 3, 76, 111, 146, 181, 216, 251, 286, 1000, 1120, 1240, 1360, 1480, 1600, 1720, 1840, 1960, 3, 9]\n"
     ]
    }
   ],
   "source": [
    "print(\"[x*x for x in range(15,87,7) if x%2==0]->{}\".format([x*x for x in range(15,87,7) if x%2==0]))\n",
    "print(\"[(x,y) for x in range(8)for y in range(3)]->{}\".format([(x,y) for x in range(8)for y in range(3)]))\n",
    "print(\"[(x,y) for x,y in zip(range(6),range(9))]->{}\".format([(x,y) for x,y in zip(range(6),range(9))]))\n",
    "nested_list=[[a for a in range(6,18,5)],2,3,[b for b in range(76,287,35)],[[c for c in range(1000,2000,120)],3,9]]\n",
    "print(\"[[a for a in range(6,18,5)],2,3,[b for b in range(76,287,35)],[[c for c in range(1000,2000,120)],3,9]]->{}\".format(nested_list)) #嵌套列表推导式\n",
    "\n",
    "flatten_lst=lambda lst: [m for n_lst in lst for m in flatten_lst(n_lst)] if type(lst) is list else [lst] #展平列表常用，可以放置到单独的.py文件中调用。lambda函数后文阐述\n",
    "print(\"flatten_lst(nested_list)->{}\".format(flatten_lst(nested_list)))\n"
   ]
  },
  {
   "cell_type": "code",
   "execution_count": 83,
   "id": "8f521dda-f7e0-4ccd-989e-17dd4b5c9df2",
   "metadata": {},
   "outputs": [
    {
     "name": "stdout",
     "output_type": "stream",
     "text": [
      "more than 10\n"
     ]
    }
   ],
   "source": [
    "x=245\n",
    "if x<0:\n",
    "    print('less than zero.')\n",
    "elif x==0:\n",
    "    print('zero.')\n",
    "elif 0<x<10:\n",
    "    print('Positive but smaller than 10')\n",
    "else:\n",
    "    print('more than 10')\n"
   ]
  },
  {
   "cell_type": "code",
   "execution_count": 84,
   "id": "643eaded-e99b-4f30-8cef-c24cbc6f3c66",
   "metadata": {},
   "outputs": [
    {
     "name": "stdout",
     "output_type": "stream",
     "text": [
      "Positive but smaller than 10\n"
     ]
    }
   ],
   "source": [
    "x=6\n",
    "if x<0:\n",
    "    print('less than zero.')\n",
    "elif x==0:\n",
    "    print('zero.')\n",
    "elif 0<x<10:\n",
    "    print('Positive but smaller than 10')\n",
    "else:\n",
    "    print('more than 10')"
   ]
  },
  {
   "cell_type": "code",
   "execution_count": 85,
   "id": "745dc69a-9a66-4878-8e90-a43c4fe7eae6",
   "metadata": {},
   "outputs": [
    {
     "name": "stdout",
     "output_type": "stream",
     "text": [
      "x==y->True\n",
      "x is y->True\n",
      "x==z->False\n",
      "x is z->False\n",
      "x is not y->False\n",
      "x is not z->True\n",
      "id_x:1567372652608;id_y:1567372652608;id_z:1567372648256\n",
      "x=[4, 9],y=[4, 9],z=[3, 8, 13] after del x[2]\n"
     ]
    }
   ],
   "source": [
    "x=y=[4,9,13]\n",
    "z=[3,8,13]\n",
    "print(\"x==y->{}\".format(x==y))\n",
    "print(\"x is y->{}\".format(x is y))\n",
    "print(\"x==z->{}\".format(x==z))\n",
    "print(\"x is z->{}\".format(x is z))\n",
    "print(\"x is not y->{}\".format(x is not y))\n",
    "print(\"x is not z->{}\".format(x is not z))\n",
    "print(\"id_x:{};id_y:{};id_z:{}\".format(id(x),id(y),id(z))) #Memory Location\n",
    "\n",
    "del x[2]\n",
    "print(\"x={},y={},z={} after del x[2]\".format(x,y,z))\n"
   ]
  },
  {
   "cell_type": "code",
   "execution_count": 91,
   "id": "7bb32955-7583-432f-8770-0c786ddbd881",
   "metadata": {},
   "outputs": [
    {
     "name": "stdout",
     "output_type": "stream",
     "text": [
      "4 in x->True\n",
      "0 in x->False\n",
      "8 not in x->True\n",
      "0 not in x->True\n"
     ]
    }
   ],
   "source": [
    "x=[4,7,9]\n",
    "print(\"4 in x->{}\".format(4 in x))\n",
    "print(\"0 in x->{}\".format(0 in x))\n",
    "print(\"8 not in x->{}\".format(8 not in x))\n",
    "print(\"0 not in x->{}\".format(0 not in x))\n"
   ]
  },
  {
   "cell_type": "code",
   "execution_count": 93,
   "id": "a90d8c7f-cd62-4f60-95c0-c85bce018be9",
   "metadata": {},
   "outputs": [
    {
     "name": "stdout",
     "output_type": "stream",
     "text": [
      "a<c<b relieable\n"
     ]
    }
   ],
   "source": [
    "a,b,c=8,19,13\n",
    "if c>a and c<b:\n",
    "    print('a<c<b relieable')\n",
    "else: print('a<c<b unbelievable')\n"
   ]
  },
  {
   "cell_type": "code",
   "execution_count": 107,
   "id": "df2ac376-0e0e-4b8d-a292-88ed661da0f9",
   "metadata": {},
   "outputs": [
    {
     "name": "stdout",
     "output_type": "stream",
     "text": [
      "simple_func(24,9)->585\n",
      "simple_func(8,36)->100\n",
      "simple_func(y=7,x=3)->16\n"
     ]
    }
   ],
   "source": [
    "def simple_func(x,y):\n",
    "    z=pow(x,2)+y\n",
    "    return z\n",
    "print(\"simple_func(24,9)->{}\".format(simple_func(24,9)))\n",
    "print(\"simple_func(8,36)->{}\".format(simple_func(8,36)))\n",
    "print(\"simple_func(y=7,x=3)->{}\".format(simple_func(y=7,x=3)))\n",
    "\n"
   ]
  },
  {
   "cell_type": "code",
   "execution_count": 110,
   "id": "3e5eb3da-7b41-4422-a78e-859209a560f9",
   "metadata": {},
   "outputs": [
    {
     "name": "stdout",
     "output_type": "stream",
     "text": [
      "fibonacci(4,8)->[5, 8, 13, 21, 34, 55, 89, 144]\n",
      "fibonacci(2,6)->[3, 5, 8, 13, 21, 34]\n"
     ]
    }
   ],
   "source": [
    "def fibonacci(s,count): #定义fib函数的方法较笨\n",
    "    fib_lst=[3,5]\n",
    "    fib_part=[]\n",
    "    if s==2 or s==5:\n",
    "        fib_part[:]=fib_lst\n",
    "        for i in range(count-2):\n",
    "            fib_part.append(fib_part[-1]+fib_part[-2])\n",
    "    else:\n",
    "        while True:\n",
    "            fib_lst[:]=[fib_lst[1],fib_lst[0]+fib_lst[1]]\n",
    "            #print(fib_lst)\n",
    "            if fib_lst[1]-s>=0:break\n",
    "        fib_part[:]=fib_lst\n",
    "        if abs(fib_lst[0]-s)>=abs(fib_lst[1]-s):\n",
    "            for i in range(count-1):\n",
    "                fib_part.append(fib_part[-1]+fib_part[-2])\n",
    "            fib_part.pop(0)\n",
    "        else:\n",
    "            for i in range(count-2):\n",
    "                fib_part.append(fib_part[-1]+fib_part[-2])\n",
    "    return fib_part\n",
    "\n",
    "print(\"fibonacci(4,8)->{}\".format(fibonacci(4,8)))\n",
    "print(\"fibonacci(2,6)->{}\".format(fibonacci(2,6)))\n"
   ]
  },
  {
   "cell_type": "code",
   "execution_count": 112,
   "id": "58b3e656-2071-43bb-bc97-f9125c64eb38",
   "metadata": {},
   "outputs": [
    {
     "name": "stdout",
     "output_type": "stream",
     "text": [
      "40320\n"
     ]
    }
   ],
   "source": [
    "def factorial(n):\n",
    "    if n==2:\n",
    "        return 2\n",
    "    else:\n",
    "        return n*factorial(n-1)\n",
    "print(factorial(8))\n"
   ]
  },
  {
   "cell_type": "code",
   "execution_count": 118,
   "id": "ecc86a14-9a2f-4b1f-aba0-c245144e5f80",
   "metadata": {},
   "outputs": [
    {
     "ename": "NameError",
     "evalue": "name 'swift' is not defined",
     "output_type": "error",
     "traceback": [
      "\u001b[1;31m---------------------------------------------------------------------------\u001b[0m",
      "\u001b[1;31mNameError\u001b[0m                                 Traceback (most recent call last)",
      "\u001b[1;32m<ipython-input-118-193025c93d30>\u001b[0m in \u001b[0;36m<module>\u001b[1;34m\u001b[0m\n\u001b[0;32m     17\u001b[0m         \u001b[0mprint\u001b[0m\u001b[1;33m(\u001b[0m\u001b[0mself\u001b[0m\u001b[1;33m.\u001b[0m\u001b[0msound\u001b[0m\u001b[1;33m)\u001b[0m\u001b[1;33m\u001b[0m\u001b[1;33m\u001b[0m\u001b[0m\n\u001b[0;32m     18\u001b[0m         \u001b[0mswift\u001b[0m\u001b[1;33m=\u001b[0m\u001b[0mApodidae\u001b[0m\u001b[1;33m(\u001b[0m\u001b[1;33m)\u001b[0m\u001b[1;33m\u001b[0m\u001b[1;33m\u001b[0m\u001b[0m\n\u001b[1;32m---> 19\u001b[1;33m \u001b[0mprint\u001b[0m\u001b[1;33m(\u001b[0m\u001b[1;34m\"swift.swim->{}\"\u001b[0m\u001b[1;33m.\u001b[0m\u001b[0mformat\u001b[0m\u001b[1;33m(\u001b[0m\u001b[0mswift\u001b[0m\u001b[1;33m.\u001b[0m\u001b[0mswim\u001b[0m\u001b[1;33m)\u001b[0m\u001b[1;33m)\u001b[0m\u001b[1;33m\u001b[0m\u001b[1;33m\u001b[0m\u001b[0m\n\u001b[0m\u001b[0;32m     20\u001b[0m \u001b[0mprint\u001b[0m\u001b[1;33m(\u001b[0m\u001b[1;34m\"swift.eat()->\"\u001b[0m\u001b[1;33m)\u001b[0m\u001b[1;33m\u001b[0m\u001b[1;33m\u001b[0m\u001b[0m\n\u001b[0;32m     21\u001b[0m \u001b[0mswift\u001b[0m\u001b[1;33m.\u001b[0m\u001b[0meat\u001b[0m\u001b[1;33m(\u001b[0m\u001b[1;33m)\u001b[0m\u001b[1;33m\u001b[0m\u001b[1;33m\u001b[0m\u001b[0m\n",
      "\u001b[1;31mNameError\u001b[0m: name 'swift' is not defined"
     ]
    }
   ],
   "source": [
    "class Fish:\n",
    "    swim='swimming' #美 /wɜːr/ \n",
    "    def __init__(self):\n",
    "        self.hungry=True\n",
    "    def eat(self):\n",
    "        if self.hungry:\n",
    "            print('wuwuwuwu...')\n",
    "            self.hungry=False\n",
    "        else:\n",
    "            print('you are handsome')\n",
    "\n",
    "class Apodidae(Fish):  #/'æpədədi:/\n",
    "    def __init__(self):\n",
    "        super(Apodidae,self).__init__()\n",
    "        self.sound='Squawk!' #美 /skwɔːk/ \n",
    "    def sing(self):\n",
    "        print(self.sound)\n",
    "        swift=Apodidae()\n",
    "print(\"swift.swim->{}\".format(swift.swim))\n",
    "print(\"swift.eat()->\")\n",
    "swift.eat()\n",
    "print(\"swift.eat()->\")\n",
    "swift.eat()\n",
    "print(\"swift.sing()->\")\n",
    "swift.sing()\n"
   ]
  },
  {
   "cell_type": "code",
   "execution_count": 119,
   "id": "3f0dc69d-7b49-40af-8725-d5dee35132e3",
   "metadata": {},
   "outputs": [
    {
     "name": "stdout",
     "output_type": "stream",
     "text": [
      "swift.fly->Whirring\n",
      "swift.eat()->\n",
      "Aaaah...\n",
      "swift.eat()->\n",
      "No.Thanks!\n",
      "swift.sing()->\n",
      "Squawk!\n"
     ]
    }
   ],
   "source": [
    "class Bird:\n",
    "    fly='Whirring' #美 /wɜːr/ \n",
    "    def __init__(self):\n",
    "        self.hungry=True\n",
    "    def eat(self):\n",
    "        if self.hungry:\n",
    "            print('Aaaah...')\n",
    "            self.hungry=False\n",
    "        else:\n",
    "            print('No.Thanks!')\n",
    "\n",
    "class Apodidae(Bird):  #/'æpədədi:/\n",
    "    def __init__(self):\n",
    "        super(Apodidae,self).__init__()\n",
    "        self.sound='Squawk!' #美 /skwɔːk/ \n",
    "    def sing(self):\n",
    "        print(self.sound)\n",
    "swift=Apodidae()\n",
    "print(\"swift.fly->{}\".format(swift.fly))\n",
    "print(\"swift.eat()->\")\n",
    "swift.eat()\n",
    "print(\"swift.eat()->\")\n",
    "swift.eat()\n",
    "print(\"swift.sing()->\")\n",
    "swift.sing()\n"
   ]
  },
  {
   "cell_type": "code",
   "execution_count": 120,
   "id": "e89764a0-0a74-455b-870b-bf786079091e",
   "metadata": {},
   "outputs": [
    {
     "name": "stdout",
     "output_type": "stream",
     "text": [
      "blackswift.sing()->\n",
      "Squawk!\n",
      "scarceswift.sing()->\n",
      "Squawk!\n"
     ]
    }
   ],
   "source": [
    "blackswift=Apodidae()\n",
    "scarceswift=Apodidae()\n",
    "print(\"blackswift.sing()->\")\n",
    "blackswift.sing()\n",
    "print(\"scarceswift.sing()->\")\n",
    "scarceswift.sing()\n"
   ]
  },
  {
   "cell_type": "code",
   "execution_count": 121,
   "id": "e8832611-50c1-49cc-8ff7-4d6aae3dafd4",
   "metadata": {},
   "outputs": [
    {
     "name": "stdout",
     "output_type": "stream",
     "text": [
      "blackswift.swim->Whirring\n",
      "blackswift.swim after redefining the blackswif's attribute->omg\n",
      "scarceswift.swim->Whirring\n"
     ]
    }
   ],
   "source": [
    "print(\"blackswift.swim->{}\".format(blackswift.fly))\n",
    "blackswift.fly='omg' #重新赋予实例的属性\n",
    "print(\"blackswift.swim after redefining the blackswif's attribute->{}\".format(blackswift.fly))\n",
    "print(\"scarceswift.swim->{}\".format(scarceswift.fly))\n"
   ]
  },
  {
   "cell_type": "code",
   "execution_count": 147,
   "id": "33e3b9dc-b7bb-4f19-80b9-06b09e0e801a",
   "metadata": {},
   "outputs": [
    {
     "name": "stdout",
     "output_type": "stream",
     "text": [
      "fa=[8, 11, 19, 30, 49, 79, 128]\n",
      "fb=[207, 335, 542, 877, 1419, 2296]\n"
     ]
    }
   ],
   "source": [
    "class Fibs():\n",
    "    def __init__(self):\n",
    "        self.a=3\n",
    "        self.b=8\n",
    "    def next(self):  #实现迭代器的next方法\n",
    "        self.a,self.b=self.b,self.a+self.b\n",
    "        return self.a\n",
    "    def __iter__(self): #实现迭代方法\n",
    "        return \n",
    "    \n",
    "f=Fibs()\n",
    "fa=[]\n",
    "fb=[]\n",
    "for i in range(7):\n",
    "    fa.append(f.next())\n",
    "print(\"fa={}\".format(fa))\n",
    "for i in range(6):\n",
    "    fb.append(f.next())\n",
    "print(\"fb={}\".format(fb))\n"
   ]
  },
  {
   "cell_type": "code",
   "execution_count": 24,
   "id": "350ec19f-8b5c-459c-a627-3ef95eb76d35",
   "metadata": {},
   "outputs": [
    {
     "name": "stdout",
     "output_type": "stream",
     "text": [
      "lst_d=[3, 5, 7, 9, 11, 13, 15, 17, 19]\n",
      "__________________________________________________\n"
     ]
    },
    {
     "ename": "NameError",
     "evalue": "name 'lst' is not defined",
     "output_type": "error",
     "traceback": [
      "\u001b[1;31m---------------------------------------------------------------------------\u001b[0m",
      "\u001b[1;31mNameError\u001b[0m                                 Traceback (most recent call last)",
      "\u001b[1;32m<ipython-input-24-4d34878c8559>\u001b[0m in \u001b[0;36m<module>\u001b[1;34m\u001b[0m\n\u001b[0;32m      2\u001b[0m \u001b[0mprint\u001b[0m\u001b[1;33m(\u001b[0m\u001b[1;34m\"lst_d={}\"\u001b[0m\u001b[1;33m.\u001b[0m\u001b[0mformat\u001b[0m\u001b[1;33m(\u001b[0m\u001b[0mlst_d\u001b[0m\u001b[1;33m)\u001b[0m\u001b[1;33m)\u001b[0m\u001b[1;33m\u001b[0m\u001b[1;33m\u001b[0m\u001b[0m\n\u001b[0;32m      3\u001b[0m \u001b[0mprint\u001b[0m\u001b[1;33m(\u001b[0m\u001b[1;34m\"_\"\u001b[0m\u001b[1;33m*\u001b[0m\u001b[1;36m50\u001b[0m\u001b[1;33m)\u001b[0m\u001b[1;33m\u001b[0m\u001b[1;33m\u001b[0m\u001b[0m\n\u001b[1;32m----> 4\u001b[1;33m \u001b[0mlst_iter\u001b[0m\u001b[1;33m=\u001b[0m\u001b[0miter\u001b[0m\u001b[1;33m(\u001b[0m\u001b[0mlst\u001b[0m\u001b[1;33m)\u001b[0m\u001b[1;33m\u001b[0m\u001b[1;33m\u001b[0m\u001b[0m\n\u001b[0m\u001b[0;32m      5\u001b[0m \u001b[0mprint\u001b[0m\u001b[1;33m(\u001b[0m\u001b[1;34m\"next(lst_iter)->{}\"\u001b[0m\u001b[1;33m.\u001b[0m\u001b[0mformat\u001b[0m\u001b[1;33m(\u001b[0m\u001b[0mnext\u001b[0m\u001b[1;33m(\u001b[0m\u001b[0mlst_iter\u001b[0m\u001b[1;33m)\u001b[0m\u001b[1;33m)\u001b[0m\u001b[1;33m)\u001b[0m\u001b[1;33m\u001b[0m\u001b[1;33m\u001b[0m\u001b[0m\n\u001b[0;32m      6\u001b[0m \u001b[0mprint\u001b[0m\u001b[1;33m(\u001b[0m\u001b[1;34m\"next(lst_iter)->{}\"\u001b[0m\u001b[1;33m.\u001b[0m\u001b[0mformat\u001b[0m\u001b[1;33m(\u001b[0m\u001b[0mnext\u001b[0m\u001b[1;33m(\u001b[0m\u001b[0mlst_iter\u001b[0m\u001b[1;33m)\u001b[0m\u001b[1;33m)\u001b[0m\u001b[1;33m)\u001b[0m\u001b[1;33m\u001b[0m\u001b[1;33m\u001b[0m\u001b[0m\n",
      "\u001b[1;31mNameError\u001b[0m: name 'lst' is not defined"
     ]
    }
   ],
   "source": [
    "lst_d=list(range(3,20,2))\n",
    "print(\"lst_d={}\".format(lst_d))\n",
    "print(\"_\"*50)\n",
    "lst_iter=iter(lst)\n",
    "print(\"next(lst_iter)->{}\".format(next(lst_iter)))\n",
    "print(\"next(lst_iter)->{}\".format(next(lst_iter)))\n",
    "for i in lst_iter:\n",
    "    print(i)\n",
    "next(lst_iter)\n"
   ]
  },
  {
   "cell_type": "code",
   "execution_count": 153,
   "id": "98e9deea-905e-4e04-8ae3-4da666c985de",
   "metadata": {},
   "outputs": [
    {
     "name": "stdout",
     "output_type": "stream",
     "text": [
      "lst_e=[[4, 22, 40, 58, 76, 94], [3, 18, 46, [0, 1, 2, 3, 4], 76]]\n",
      "__________________________________________________\n",
      "flatten_lst=[4, 22, 40, 58, 76, 94, 3, 18, 46, 0, 1, 2, 3, 4, 76]\n"
     ]
    }
   ],
   "source": [
    "lst_e=[list(range(4,96,18)),[3,18,46,list(range(5)),76]]\n",
    "print(\"lst_e={}\".format(lst_e))\n",
    "print(\"_\"*50)\n",
    "flatten_lst=[]\n",
    "for v_1 in lst_e:\n",
    "    try:\n",
    "        for v_2 in v_1:\n",
    "            try:\n",
    "                for v_3 in v_2:\n",
    "                    flatten_lst.append(v_3)\n",
    "            except TypeError:\n",
    "                flatten_lst.append(v_2)\n",
    "    except TypeError:\n",
    "        flatten_lst.append(v_1)\n",
    "print(\"flatten_lst={}\".format(flatten_lst))\n"
   ]
  },
  {
   "cell_type": "code",
   "execution_count": 191,
   "id": "7f9336a7-0b01-41b3-9c5e-3c8f9bf7e564",
   "metadata": {},
   "outputs": [
    {
     "name": "stdout",
     "output_type": "stream",
     "text": [
      "list(flatten(lst_e))->[4, 22, 40, 58, 76, 94, 3, 18, 46, 0, 1, 2, 3, 4, 76]\n"
     ]
    }
   ],
   "source": [
    "def flatten(lst): #定义生成器（包含yield语句的函数）\n",
    "    try: #使用语句try\\except捕捉异常        \n",
    "        for n_lst in lst:  #循环列表            \n",
    "            for m in flatten(n_lst): #使用递归的方法循环子列表                \n",
    "                yield m  #使用yield语句，每次产生多个值，当返回一个值时函数就会被冻结，当再次激活时，从停止的那点开始执行\n",
    "    except TypeError:  #当函数被告知展开一个元素时，引发TypeError异常，生成器返回一个值\n",
    "        yield lst #生成器返回引发异常的一个值        \n",
    "print(\"list(flatten(lst_e))->{}\".format(list(flatten(lst_e))))\n"
   ]
  },
  {
   "cell_type": "code",
   "execution_count": 192,
   "id": "29a09405-5b4e-4dd6-b33a-253e9c46ee89",
   "metadata": {},
   "outputs": [
    {
     "name": "stdout",
     "output_type": "stream",
     "text": [
      "next(n)->num#3\n",
      "next(n)->num#10\n",
      "next(n)->num#17\n",
      "[next(n) for i in range(5)]->['num#24', 'num#31', 'num#38', 'num#45', 'num#52']\n"
     ]
    }
   ],
   "source": [
    "def infinite():\n",
    "    n=3\n",
    "    while True:\n",
    "        yield 'num#'+str(n)\n",
    "        n+=7\n",
    "n=infinite()\n",
    "print(\"next(n)->{}\".format(next(n)))\n",
    "print(\"next(n)->{}\".format(next(n)))\n",
    "print(\"next(n)->{}\".format(next(n)))\n",
    "print(\"[next(n) for i in range(5)]->{}\".format([next(n) for i in range(5)]))\n"
   ]
  },
  {
   "cell_type": "code",
   "execution_count": 195,
   "id": "98cccf9b-2010-4a9d-a7c0-72e7c1f4b5f6",
   "metadata": {},
   "outputs": [
    {
     "name": "stdout",
     "output_type": "stream",
     "text": [
      "[[(2*pi*(2*(u/(n-1))-1),2*pi*(2*(v/(n-1))-1)) for u in range(n)] for v in range(n)]->[[(-6.283185307179586, -6.283185307179586), (-3.141592653589793, -6.283185307179586), (0.0, -6.283185307179586), (3.141592653589793, -6.283185307179586), (6.283185307179586, -6.283185307179586)], [(-6.283185307179586, -3.141592653589793), (-3.141592653589793, -3.141592653589793), (0.0, -3.141592653589793), (3.141592653589793, -3.141592653589793), (6.283185307179586, -3.141592653589793)], [(-6.283185307179586, 0.0), (-3.141592653589793, 0.0), (0.0, 0.0), (3.141592653589793, 0.0), (6.283185307179586, 0.0)], [(-6.283185307179586, 3.141592653589793), (-3.141592653589793, 3.141592653589793), (0.0, 3.141592653589793), (3.141592653589793, 3.141592653589793), (6.283185307179586, 3.141592653589793)], [(-6.283185307179586, 6.283185307179586), (-3.141592653589793, 6.283185307179586), (0.0, 6.283185307179586), (3.141592653589793, 6.283185307179586), (6.283185307179586, 6.283185307179586)]]\n",
      "__________________________________________________\n",
      "([(2*pi*(2*(u/(n-1))-1),2*pi*(2*(v/(n-1))-1)) for u in range(n)] for v in range(n))-><generator object <genexpr> at 0x0000016CEEB48F20>\n",
      "next(gen)->[(-6.283185307179586, -6.283185307179586), (-3.141592653589793, -6.283185307179586), (0.0, -6.283185307179586), (3.141592653589793, -6.283185307179586), (6.283185307179586, -6.283185307179586)]\n",
      "next(gen)->[(-6.283185307179586, -3.141592653589793), (-3.141592653589793, -3.141592653589793), (0.0, -3.141592653589793), (3.141592653589793, -3.141592653589793), (6.283185307179586, -3.141592653589793)]\n"
     ]
    }
   ],
   "source": [
    "n=5\n",
    "print(\"[[(2*pi*(2*(u/(n-1))-1),2*pi*(2*(v/(n-1))-1)) for u in range(n)] for v in range(n)]->{}\".format([[(2*pi*(2*(u/(n-1))-1),2*pi*(2*(v/(n-1))-1)) for u in range(n)] for v in range(n)]))\n",
    "print(\"_\"*50)\n",
    "print(\"([(2*pi*(2*(u/(n-1))-1),2*pi*(2*(v/(n-1))-1)) for u in range(n)] for v in range(n))->{}\".format(([(2*pi*(2*(u/(n-1))-1),2*pi*(2*(v/(n-1))-1)) for u in range(n)] for v in range(n))))\n",
    "gen=([(2*pi*(2*(u/(n-1))-1),2*pi*(2*(v/(n-1))-1)) for u in range(n)] for v in range(n))\n",
    "print(\"next(gen)->{}\".format(next(gen)))\n",
    "print(\"next(gen)->{}\".format(next(gen)))\n"
   ]
  },
  {
   "cell_type": "code",
   "execution_count": 197,
   "id": "027a4188-ce8b-4ff6-b3f7-ad8faaed611b",
   "metadata": {},
   "outputs": [
    {
     "name": "stdout",
     "output_type": "stream",
     "text": [
      "f_convert_a('250520')->250520.0\n",
      "f_convert_a('hipop')->hipop\n",
      "f_convert_a(4,7,5)->(4, 7, 5)\n"
     ]
    }
   ],
   "source": [
    "\n",
    "def f_convert_a(x):\n",
    "    try:\n",
    "        return float(x)\n",
    "    except:\n",
    "        return x\n",
    "print(\"f_convert_a('250520')->{}\".format(f_convert_a('250520')))    \n",
    "print(\"f_convert_a('hipop')->{}\".format(f_convert_a('hipop')))  \n",
    "print(\"f_convert_a(4,7,5)->{}\".format(f_convert_a((4,7,5))))  \n"
   ]
  },
  {
   "cell_type": "code",
   "execution_count": 202,
   "id": "c467a720-0488-4b8b-adc5-19e4c509d2bf",
   "metadata": {},
   "outputs": [
    {
     "name": "stdout",
     "output_type": "stream",
     "text": [
      "f_convert_c('523')->523.0\n",
      "f_convert_c('becouse you')->becouse you\n",
      "(3, 6, 7) TypeError\n",
      "f_convert_c(3,6,7)->None\n"
     ]
    }
   ],
   "source": [
    "def f_convert_c(x):\n",
    "    try:\n",
    "        return float(x)\n",
    "    except ValueError:\n",
    "        return x\n",
    "    except TypeError:\n",
    "        print(x,'TypeError')\n",
    "print(\"f_convert_c('523')->{}\".format(f_convert_c('523')))    \n",
    "print(\"f_convert_c('becouse you')->{}\".format(f_convert_c('becouse you')))  \n",
    "print(\"f_convert_c(3,6,7)->{}\".format(f_convert_c((3,6,7))))         \n"
   ]
  },
  {
   "cell_type": "code",
   "execution_count": 203,
   "id": "4b5f8dbb-060b-466d-817b-f53110291a0e",
   "metadata": {},
   "outputs": [
    {
     "name": "stdout",
     "output_type": "stream",
     "text": [
      "f_convert_d('250')->250.0\n",
      "love ValueError or TypeError\n",
      "f_convert_d('love')->None\n",
      "(4, 6, 8) ValueError or TypeError\n",
      "f_convert_d(4,6,8)->None\n"
     ]
    }
   ],
   "source": [
    "def f_convert_d(x):\n",
    "    try:\n",
    "        return float(x)\n",
    "    except (ValueError,TypeError):\n",
    "        print(x,'ValueError or TypeError')\n",
    "print(\"f_convert_d('250')->{}\".format(f_convert_d('250')))    \n",
    "print(\"f_convert_d('love')->{}\".format(f_convert_d('love')))  \n",
    "print(\"f_convert_d(4,6,8)->{}\".format(f_convert_d((4,6,8)))) \n"
   ]
  },
  {
   "cell_type": "code",
   "execution_count": 205,
   "id": "5cd6260d-6ed8-4024-9d71-d6aceba1d848",
   "metadata": {},
   "outputs": [
    {
     "name": "stdout",
     "output_type": "stream",
     "text": [
      "f_convert_e('363')->363.0\n",
      "doing could not convert string to float: 'doing'\n",
      "f_convert_e('doing')->None\n",
      "(3, 6, 7) float() argument must be a string or a number, not 'tuple'\n",
      "f_convert_e(3,6,7)->None\n"
     ]
    }
   ],
   "source": [
    "def f_convert_e(x):\n",
    "    try:\n",
    "        return float(x)\n",
    "    except (ValueError,TypeError) as e:\n",
    "        return print(x,e)\n",
    "print(\"f_convert_e('363')->{}\".format(f_convert_e('363')))    \n",
    "print(\"f_convert_e('doing')->{}\".format(f_convert_e('doing')))  \n",
    "print(\"f_convert_e(3,6,7)->{}\".format(f_convert_e((3,6,7))))    \n"
   ]
  },
  {
   "cell_type": "code",
   "execution_count": 207,
   "id": "945d61b7-b10a-4c94-8e1a-1fe381185e89",
   "metadata": {},
   "outputs": [
    {
     "name": "stdout",
     "output_type": "stream",
     "text": [
      "f_convert_f('25452')->25452.0\n",
      "f_convert_f('happy')->None\n",
      "f_convert_f(3,6,7)->None\n"
     ]
    }
   ],
   "source": [
    "def f_convert_f(x):\n",
    "    try:\n",
    "        return float(x)\n",
    "    except (ValueError,TypeError) as e:\n",
    "        pass\n",
    "print(\"f_convert_f('25452')->{}\".format(f_convert_f('25452')))    \n",
    "print(\"f_convert_f('happy')->{}\".format(f_convert_f('happy')))  \n",
    "print(\"f_convert_f(3,6,7)->{}\".format(f_convert_f((3,6,7))))     \n"
   ]
  },
  {
   "cell_type": "code",
   "execution_count": 208,
   "id": "ca22ded3-7f14-4552-aa65-cbfd5aafbbd7",
   "metadata": {},
   "outputs": [
    {
     "name": "stdout",
     "output_type": "stream",
     "text": [
      "Unable to open ./data/tryException.txt :[Errno 2] No such file or directory: './data/tryException.txt'\n",
      "\n",
      "tryException_content->None\n",
      "Unable to open ./data/tryException_.txt :[Errno 2] No such file or directory: './data/tryException_.txt'\n",
      "\n"
     ]
    }
   ],
   "source": [
    "def f_open_a(fp):\n",
    "    try:\n",
    "        f=open(fp,'r')\n",
    "    except IOError as e:\n",
    "        print('Unable to open',fp,':%s\\n' %e)\n",
    "    else:\n",
    "        data=f.read()\n",
    "        f.close\n",
    "        return data\n",
    "tryException_content=f_open_a(\"./data/tryException.txt\")   \n",
    "print(\"tryException_content->{}\".format(tryException_content))\n",
    "f_open_a(\"./data/tryException_.txt\")\n"
   ]
  },
  {
   "cell_type": "code",
   "execution_count": 65,
   "id": "ad230e46-aff6-4096-85e8-54f630f0ca2c",
   "metadata": {},
   "outputs": [
    {
     "name": "stdout",
     "output_type": "stream",
     "text": [
      "please ./data/tryException.txt :[Errno 2] No such file or directory: './data/tryException.txt'\n",
      "\n",
      "end!\n"
     ]
    }
   ],
   "source": [
    "def f_open_b(fp):\n",
    "    try:\n",
    "        f=open(fp,'r')\n",
    "    except IOError as e:\n",
    "        print('please',fp,':%s\\n' %e)\n",
    "    else:\n",
    "        data=f.read()\n",
    "        f.close()\n",
    "        return data\n",
    "    finally:\n",
    "        print('end!')\n",
    "f_open_b(\"./data/tryException.txt\")        \n"
   ]
  },
  {
   "cell_type": "code",
   "execution_count": null,
   "id": "3d7301e2-155a-4a79-9c7d-3b212f0f651c",
   "metadata": {},
   "outputs": [],
   "source": []
  },
  {
   "cell_type": "code",
   "execution_count": null,
   "id": "3c509d99-813d-400d-8205-4dd29c120458",
   "metadata": {},
   "outputs": [],
   "source": []
  }
 ],
 "metadata": {
  "kernelspec": {
   "display_name": "Python 3",
   "language": "python",
   "name": "python3"
  },
  "language_info": {
   "codemirror_mode": {
    "name": "ipython",
    "version": 3
   },
   "file_extension": ".py",
   "mimetype": "text/x-python",
   "name": "python",
   "nbconvert_exporter": "python",
   "pygments_lexer": "ipython3",
   "version": "3.8.8"
  }
 },
 "nbformat": 4,
 "nbformat_minor": 5
}
